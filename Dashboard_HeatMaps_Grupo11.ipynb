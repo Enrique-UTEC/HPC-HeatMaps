{
  "nbformat": 4,
  "nbformat_minor": 0,
  "metadata": {
    "colab": {
      "provenance": []
    },
    "kernelspec": {
      "name": "python3",
      "display_name": "Python 3"
    },
    "language_info": {
      "name": "python"
    },
  "cells": [
    {
      "cell_type": "markdown",
      "source": [
        "# HeatMaps Grupo 11"
      ],
      "metadata": {
        "id": "e7QkE_MQh6zD"
      }
    },
    {
      "cell_type": "code",
      "source": [
        "import numpy as np\n",
        "import matplotlib.pyplot as plt\n",
        "import ipywidgets as widgets\n",
        "from IPython.display import display, Markdown\n",
        "from scipy.optimize import curve_fit\n",
        "from sklearn.metrics import r2_score"
      ],
      "metadata": {
        "id": "u4D4vBMU9UHc"
      },
      "execution_count": 1,
      "outputs": []
    },
    {
      "cell_type": "code",
      "execution_count": 2,
      "metadata": {
        "colab": {
          "base_uri": "https://localhost:8080/",
          "height": 1000,
          "referenced_widgets": [
            "14754875aad24adf9f28526d9abeb346",
            "c925fa12e4bd428080a8e0beffe4ed7e",
            "444a28d169044a768fbcedea47ade366",
            "296ba4e323fa4ce783dbe4dd4216da3b",
            "87deb9b872384b61b7c44a662862694d",
            "26a2d6957a9e42a0beff80f210bfc0b3",
            "939973542de642a494a8c96c365bc434"
          ]
        },
        "id": "723b7fe8",
        "outputId": "e4f03bf0-ac72-41be-bab8-9ee0705cd562"
      },
      "outputs": [
        {
          "output_type": "display_data",
          "data": {
            "text/plain": [
              "interactive(children=(Dropdown(description='Malla N:', options=(512, 1024, 2048, 4096, 8192), value=512), Outp…"
            ],
            "application/vnd.jupyter.widget-view+json": {
              "version_major": 2,
              "version_minor": 0,
              "model_id": "14754875aad24adf9f28526d9abeb346"
            }
          },
          "metadata": {}
        }
      ],
      "source": [
        "# Tus datos reales\n",
        "datos = {\n",
        "    512:   ([1.000535, 0.530576, 0.282809, 0.165258, 0.108383, 0.077999],\n",
        "            [1.000459, 0.527290, 0.243084, 0.121492, 0.076564, 0.036679],\n",
        "            [0.000016, 0.003229, 0.044699, 0.043689, 0.031819, 0.040011]),\n",
        "    1024:  ([3.889512, 2.424211, 1.049989, 0.598888, 0.379166, 0.268707],\n",
        "            [3.889434, 2.186563, 1.032492, 0.508392, 0.264917, 0.146860],\n",
        "            [0.000033, 0.237648, 0.017511, 0.088783, 0.114379, 0.120324]),\n",
        "    2048:  ([15.486683, 8.015858, 4.050107, 2.105107, 1.307373, 0.887010],\n",
        "            [15.486493, 7.951011, 2.038692, 1.140401, 0.596007, 0.596007],\n",
        "            [0.000049, 0.064827, 0.113255, 0.194064, 0.711366, 0.058687]),\n",
        "    4096:  ([61.914910, 32.019149, 16.124259, 8.415599, 4.817559, 3.376290],\n",
        "            [61.917420, 31.972901, 16.306005, 8.585585, 4.793292, 2.848708],\n",
        "            [0.000222, 0.025483, 0.022449, 0.045205, 0.025310, 0.470502]),\n",
        "    8192:  ([245.923765, 127.623835, 63.993006, 35.688531, 18.576346, 13.119167],\n",
        "            [245.923176, 127.662219, 63.992255, 33.630006, 17.532977, 13.035616],\n",
        "            [0.000222, 0.007479, 0.063579, 0.153197, 0.043205, 0.083156])\n",
        "}\n",
        "\n",
        "P = np.array([1, 2, 4, 8, 16, 32])\n",
        "\n",
        "# Modelos a ajustar\n",
        "def pot_model(P, a, b):\n",
        "    return a * P**b\n",
        "\n",
        "def amdahl_model(P, T1, f):\n",
        "    return T1 * ((1 - f) + f / P)\n",
        "\n",
        "# Función principal del dashboard\n",
        "def plot_dashboard(N):\n",
        "    T_total, T_comp, T_comm = datos[N]\n",
        "    T_total = np.array(T_total)\n",
        "    T_comp = np.array(T_comp)\n",
        "    T_comm = np.array(T_comm)\n",
        "\n",
        "    # Speedup y eficiencia\n",
        "    S = T_total[0] / T_total\n",
        "    E = S / P\n",
        "    perc_comm = T_comm / T_total * 100\n",
        "\n",
        "    # Ajuste modelo potencia\n",
        "    popt_pot, _ = curve_fit(pot_model, P, T_total, p0=[T_total[0], -1])\n",
        "    T_pot_fit = pot_model(P, *popt_pot)\n",
        "    r2_pot = r2_score(T_total, T_pot_fit)\n",
        "\n",
        "    # Ajuste modelo Amdahl\n",
        "    popt_amdahl, _ = curve_fit(amdahl_model, P, T_total, p0=[T_total[0], 0.95], bounds=([0, 0],[np.inf, 1.0]))\n",
        "    T_amdahl_fit = amdahl_model(P, *popt_amdahl)\n",
        "    r2_amdahl = r2_score(T_total, T_amdahl_fit)\n",
        "\n",
        "    # Subplots\n",
        "    fig, axs = plt.subplots(3, 2, figsize=(14, 10))\n",
        "\n",
        "    # Tiempo total + Ajustes\n",
        "    axs[0,0].plot(P, T_total, 'o-', label='Datos medidos')\n",
        "    axs[0,0].plot(P, T_pot_fit, '--', label=f'Potencia (b={popt_pot[1]:.3f}, R²={r2_pot:.4f})')\n",
        "    axs[0,0].plot(P, T_amdahl_fit, ':', label=f'Amdahl (f={popt_amdahl[1]:.3f}, R²={r2_amdahl:.4f})')\n",
        "    axs[0,0].plot(P, T_total[0]/P, '-', color='gray', label='Curva ideal')\n",
        "    axs[0,0].set_xscale('log', base=2)\n",
        "    axs[0,0].set_yscale('log')\n",
        "    axs[0,0].set_title(f\"Tiempo Total y Ajustes (N={N})\")\n",
        "    axs[0,0].set_xlabel(\"N° Procesos\")\n",
        "    axs[0,0].set_ylabel(\"Tiempo (s)\")\n",
        "    axs[0,0].legend()\n",
        "    axs[0,0].grid()\n",
        "\n",
        "    # Speedup\n",
        "    axs[0,1].plot(P, S, 'o-', label='Speedup real')\n",
        "    axs[0,1].plot(P, P, '--', label='Speedup ideal')\n",
        "    axs[0,1].set_xscale('log', base=2)\n",
        "    axs[0,1].set_title(f\"Speedup (N={N})\")\n",
        "    axs[0,1].set_xlabel(\"N° Procesos\")\n",
        "    axs[0,1].set_ylabel(\"Speedup\")\n",
        "    axs[0,1].legend()\n",
        "    axs[0,1].grid()\n",
        "\n",
        "    # Eficiencia\n",
        "    axs[1,0].plot(P, E*100, 'o-', color='green', label='Eficiencia (%)')\n",
        "    axs[1,0].set_xscale('log', base=2)\n",
        "    axs[1,0].set_title(f\"Eficiencia (N={N})\")\n",
        "    axs[1,0].set_xlabel(\"N° Procesos\")\n",
        "    axs[1,0].set_ylabel(\"Eficiencia (%)\")\n",
        "    axs[1,0].legend()\n",
        "    axs[1,0].grid()\n",
        "\n",
        "    # Comunicación absoluta\n",
        "    axs[1,1].bar(P, T_comp, label='Cómputo')\n",
        "    axs[1,1].bar(P, T_comm, bottom=T_comp, label='Comunicación')\n",
        "    axs[1,1].set_xscale('log', base=2)\n",
        "    axs[1,1].set_title(f\"Tiempos Cómputo vs Comunicación (N={N})\")\n",
        "    axs[1,1].set_xlabel(\"N° Procesos\")\n",
        "    axs[1,1].set_ylabel(\"Tiempo (s)\")\n",
        "    axs[1,1].legend()\n",
        "\n",
        "    # % Comunicación\n",
        "    axs[2,0].plot(P, perc_comm, 'o-', color='red', label='% Comunicación')\n",
        "    axs[2,0].set_xscale('log', base=2)\n",
        "    axs[2,0].set_title(f\"Porcentaje de Comunicación (N={N})\")\n",
        "    axs[2,0].set_xlabel(\"N° Procesos\")\n",
        "    axs[2,0].set_ylabel(\"% de Comunicación\")\n",
        "    axs[2,0].legend()\n",
        "    axs[2,0].grid()\n",
        "\n",
        "    # Texto resumen\n",
        "    axs[2,1].axis('off')\n",
        "    resumen = f\"\"\"\n",
        "    Para N={N}:\n",
        "    - Speedup máximo: {S[-1]:.2f}x en {P[-1]} procesos.\n",
        "    - Eficiencia final: {E[-1]*100:.2f}%.\n",
        "    - % comunicación en 32 procesos: {perc_comm[-1]:.2f}%.\n",
        "    - Modelo Potencia: b = {popt_pot[1]:.3f}, R² = {r2_pot:.4f}\n",
        "    - Modelo Amdahl: f = {popt_amdahl[1]:.3f}, R² = {r2_amdahl:.4f}\n",
        "    \"\"\"\n",
        "    axs[2,1].text(0.01, 0.5, resumen, fontsize=12, verticalalignment='center')\n",
        "\n",
        "    plt.tight_layout()\n",
        "    plt.show()\n",
        "\n",
        "    # Conclusiones dinámicas\n",
        "    display(Markdown(f\"\"\"\n",
        "    **Conclusiones para N={N}:**\n",
        "\n",
        "    - El modelo de Amdahl indica que la fracción paralelizable es de aproximadamente {popt_amdahl[1]*100:.2f}%.\n",
        "    - El exponente del modelo potencia es {popt_pot[1]:.3f}, lo que indica {\"excelente\" if popt_pot[1] < -0.95 else \"moderada\"} escalabilidad.\n",
        "    - El R² para Amdahl es {r2_amdahl:.4f}, demostrando que {\"ajusta muy bien a los datos.\" if r2_amdahl > 0.98 else \"no ajusta perfectamente a los datos.\"}\n",
        "    - En 32 procesos, la eficiencia es de {E[-1]*100:.2f}%.\n",
        "    - {\"✅ El escalado es excelente.\" if E[-1] > 0.7 else \"⚠️ El escalado está limitado por fracción secuencial o comunicación.\"}\n",
        "    \"\"\"))\n",
        "\n",
        "# Dropdown para Voila\n",
        "dropdown = widgets.Dropdown(\n",
        "    options=list(datos.keys()),\n",
        "    value=512,\n",
        "    description='Malla N:',\n",
        ")\n",
        "\n",
        "widgets.interact(plot_dashboard, N=dropdown);\n"
      ]
    }
  ]
}
